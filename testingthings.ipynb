{
 "metadata": {
  "language_info": {
   "codemirror_mode": {
    "name": "ipython",
    "version": 3
   },
   "file_extension": ".py",
   "mimetype": "text/x-python",
   "name": "python",
   "nbconvert_exporter": "python",
   "pygments_lexer": "ipython3",
   "version": 3
  },
  "orig_nbformat": 2
 },
 "nbformat": 4,
 "nbformat_minor": 2,
 "cells": [
  {
   "cell_type": "code",
   "execution_count": null,
   "metadata": {},
   "outputs": [],
   "source": [
    "predicted_ages = [2,4,6,8,10,12,14,16,18,20,25,30,31,45,50,65]\n",
    "\n",
    "def get_category(age):\n",
    "    if age < 14:\n",
    "        return \"Child\"\n",
    "    elif age < 17:\n",
    "        return \"Teen\"\n",
    "    elif age < 24:\n",
    "        return \"Youth\"\n",
    "    elif age < 64:\n",
    "        return \"adult\"\n",
    "    else:\n",
    "        return \"Elderly\""
   ]
  }
 ]
}